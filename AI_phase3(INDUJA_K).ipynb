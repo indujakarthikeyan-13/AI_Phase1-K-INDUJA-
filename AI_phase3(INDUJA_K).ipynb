{
  "nbformat": 4,
  "nbformat_minor": 0,
  "metadata": {
    "colab": {
      "provenance": [],
      "authorship_tag": "ABX9TyNdHiuYXYSh5f2hrNltfYP2",
      "include_colab_link": true
    },
    "kernelspec": {
      "name": "python3",
      "display_name": "Python 3"
    },
    "language_info": {
      "name": "python"
    }
  },
  "cells": [
    {
      "cell_type": "markdown",
      "metadata": {
        "id": "view-in-github",
        "colab_type": "text"
      },
      "source": [
        "<a href=\"https://colab.research.google.com/github/indujakarthikeyan-13/AI_Phase1-K-INDUJA-/blob/main/AI_phase3(INDUJA_K).ipynb\" target=\"_parent\"><img src=\"https://colab.research.google.com/assets/colab-badge.svg\" alt=\"Open In Colab\"/></a>"
      ]
    },
    {
      "cell_type": "markdown",
      "source": [
        "**PREDICTING HOUSE PRICES USING MACHINE LEARNING**"
      ],
      "metadata": {
        "id": "tm1M8v3C9EdT"
      }
    },
    {
      "cell_type": "code",
      "source": [
        "import pandas as pd\n",
        "from sklearn.model_selection import cross_val_score\n",
        "from sklearn.linear_model import LinearRegression, Ridge\n",
        "from sklearn.metrics import mean_squared_error, r2_score\n",
        "import numpy as np"
      ],
      "metadata": {
        "id": "1eq1rWFP2-wj"
      },
      "execution_count": 38,
      "outputs": []
    },
    {
      "cell_type": "code",
      "source": [
        "from google.colab import files\n",
        "uploaded=files.upload()"
      ],
      "metadata": {
        "colab": {
          "base_uri": "https://localhost:8080/",
          "height": 72
        },
        "id": "7Vp7zmW08xZw",
        "outputId": "dead3cbe-76f3-46ca-b384-77575a4b61a9"
      },
      "execution_count": 39,
      "outputs": [
        {
          "output_type": "display_data",
          "data": {
            "text/plain": [
              "<IPython.core.display.HTML object>"
            ],
            "text/html": [
              "\n",
              "     <input type=\"file\" id=\"files-631a2d38-d595-4ebe-98c5-8205bb88c405\" name=\"files[]\" multiple disabled\n",
              "        style=\"border:none\" />\n",
              "     <output id=\"result-631a2d38-d595-4ebe-98c5-8205bb88c405\">\n",
              "      Upload widget is only available when the cell has been executed in the\n",
              "      current browser session. Please rerun this cell to enable.\n",
              "      </output>\n",
              "      <script>// Copyright 2017 Google LLC\n",
              "//\n",
              "// Licensed under the Apache License, Version 2.0 (the \"License\");\n",
              "// you may not use this file except in compliance with the License.\n",
              "// You may obtain a copy of the License at\n",
              "//\n",
              "//      http://www.apache.org/licenses/LICENSE-2.0\n",
              "//\n",
              "// Unless required by applicable law or agreed to in writing, software\n",
              "// distributed under the License is distributed on an \"AS IS\" BASIS,\n",
              "// WITHOUT WARRANTIES OR CONDITIONS OF ANY KIND, either express or implied.\n",
              "// See the License for the specific language governing permissions and\n",
              "// limitations under the License.\n",
              "\n",
              "/**\n",
              " * @fileoverview Helpers for google.colab Python module.\n",
              " */\n",
              "(function(scope) {\n",
              "function span(text, styleAttributes = {}) {\n",
              "  const element = document.createElement('span');\n",
              "  element.textContent = text;\n",
              "  for (const key of Object.keys(styleAttributes)) {\n",
              "    element.style[key] = styleAttributes[key];\n",
              "  }\n",
              "  return element;\n",
              "}\n",
              "\n",
              "// Max number of bytes which will be uploaded at a time.\n",
              "const MAX_PAYLOAD_SIZE = 100 * 1024;\n",
              "\n",
              "function _uploadFiles(inputId, outputId) {\n",
              "  const steps = uploadFilesStep(inputId, outputId);\n",
              "  const outputElement = document.getElementById(outputId);\n",
              "  // Cache steps on the outputElement to make it available for the next call\n",
              "  // to uploadFilesContinue from Python.\n",
              "  outputElement.steps = steps;\n",
              "\n",
              "  return _uploadFilesContinue(outputId);\n",
              "}\n",
              "\n",
              "// This is roughly an async generator (not supported in the browser yet),\n",
              "// where there are multiple asynchronous steps and the Python side is going\n",
              "// to poll for completion of each step.\n",
              "// This uses a Promise to block the python side on completion of each step,\n",
              "// then passes the result of the previous step as the input to the next step.\n",
              "function _uploadFilesContinue(outputId) {\n",
              "  const outputElement = document.getElementById(outputId);\n",
              "  const steps = outputElement.steps;\n",
              "\n",
              "  const next = steps.next(outputElement.lastPromiseValue);\n",
              "  return Promise.resolve(next.value.promise).then((value) => {\n",
              "    // Cache the last promise value to make it available to the next\n",
              "    // step of the generator.\n",
              "    outputElement.lastPromiseValue = value;\n",
              "    return next.value.response;\n",
              "  });\n",
              "}\n",
              "\n",
              "/**\n",
              " * Generator function which is called between each async step of the upload\n",
              " * process.\n",
              " * @param {string} inputId Element ID of the input file picker element.\n",
              " * @param {string} outputId Element ID of the output display.\n",
              " * @return {!Iterable<!Object>} Iterable of next steps.\n",
              " */\n",
              "function* uploadFilesStep(inputId, outputId) {\n",
              "  const inputElement = document.getElementById(inputId);\n",
              "  inputElement.disabled = false;\n",
              "\n",
              "  const outputElement = document.getElementById(outputId);\n",
              "  outputElement.innerHTML = '';\n",
              "\n",
              "  const pickedPromise = new Promise((resolve) => {\n",
              "    inputElement.addEventListener('change', (e) => {\n",
              "      resolve(e.target.files);\n",
              "    });\n",
              "  });\n",
              "\n",
              "  const cancel = document.createElement('button');\n",
              "  inputElement.parentElement.appendChild(cancel);\n",
              "  cancel.textContent = 'Cancel upload';\n",
              "  const cancelPromise = new Promise((resolve) => {\n",
              "    cancel.onclick = () => {\n",
              "      resolve(null);\n",
              "    };\n",
              "  });\n",
              "\n",
              "  // Wait for the user to pick the files.\n",
              "  const files = yield {\n",
              "    promise: Promise.race([pickedPromise, cancelPromise]),\n",
              "    response: {\n",
              "      action: 'starting',\n",
              "    }\n",
              "  };\n",
              "\n",
              "  cancel.remove();\n",
              "\n",
              "  // Disable the input element since further picks are not allowed.\n",
              "  inputElement.disabled = true;\n",
              "\n",
              "  if (!files) {\n",
              "    return {\n",
              "      response: {\n",
              "        action: 'complete',\n",
              "      }\n",
              "    };\n",
              "  }\n",
              "\n",
              "  for (const file of files) {\n",
              "    const li = document.createElement('li');\n",
              "    li.append(span(file.name, {fontWeight: 'bold'}));\n",
              "    li.append(span(\n",
              "        `(${file.type || 'n/a'}) - ${file.size} bytes, ` +\n",
              "        `last modified: ${\n",
              "            file.lastModifiedDate ? file.lastModifiedDate.toLocaleDateString() :\n",
              "                                    'n/a'} - `));\n",
              "    const percent = span('0% done');\n",
              "    li.appendChild(percent);\n",
              "\n",
              "    outputElement.appendChild(li);\n",
              "\n",
              "    const fileDataPromise = new Promise((resolve) => {\n",
              "      const reader = new FileReader();\n",
              "      reader.onload = (e) => {\n",
              "        resolve(e.target.result);\n",
              "      };\n",
              "      reader.readAsArrayBuffer(file);\n",
              "    });\n",
              "    // Wait for the data to be ready.\n",
              "    let fileData = yield {\n",
              "      promise: fileDataPromise,\n",
              "      response: {\n",
              "        action: 'continue',\n",
              "      }\n",
              "    };\n",
              "\n",
              "    // Use a chunked sending to avoid message size limits. See b/62115660.\n",
              "    let position = 0;\n",
              "    do {\n",
              "      const length = Math.min(fileData.byteLength - position, MAX_PAYLOAD_SIZE);\n",
              "      const chunk = new Uint8Array(fileData, position, length);\n",
              "      position += length;\n",
              "\n",
              "      const base64 = btoa(String.fromCharCode.apply(null, chunk));\n",
              "      yield {\n",
              "        response: {\n",
              "          action: 'append',\n",
              "          file: file.name,\n",
              "          data: base64,\n",
              "        },\n",
              "      };\n",
              "\n",
              "      let percentDone = fileData.byteLength === 0 ?\n",
              "          100 :\n",
              "          Math.round((position / fileData.byteLength) * 100);\n",
              "      percent.textContent = `${percentDone}% done`;\n",
              "\n",
              "    } while (position < fileData.byteLength);\n",
              "  }\n",
              "\n",
              "  // All done.\n",
              "  yield {\n",
              "    response: {\n",
              "      action: 'complete',\n",
              "    }\n",
              "  };\n",
              "}\n",
              "\n",
              "scope.google = scope.google || {};\n",
              "scope.google.colab = scope.google.colab || {};\n",
              "scope.google.colab._files = {\n",
              "  _uploadFiles,\n",
              "  _uploadFilesContinue,\n",
              "};\n",
              "})(self);\n",
              "</script> "
            ]
          },
          "metadata": {}
        },
        {
          "output_type": "stream",
          "name": "stdout",
          "text": [
            "Saving USA_Housing.csv to USA_Housing (1).csv\n"
          ]
        }
      ]
    },
    {
      "cell_type": "code",
      "source": [
        "data = pd.read_csv(\"USA_Housing.csv\")"
      ],
      "metadata": {
        "id": "kcGV9bJ73KWM"
      },
      "execution_count": 40,
      "outputs": []
    },
    {
      "cell_type": "code",
      "source": [
        "data"
      ],
      "metadata": {
        "colab": {
          "base_uri": "https://localhost:8080/",
          "height": 545
        },
        "id": "zTD58y6WDWk1",
        "outputId": "4780f39c-cf89-4e86-d0b0-80ddb3ec2bfc"
      },
      "execution_count": 42,
      "outputs": [
        {
          "output_type": "execute_result",
          "data": {
            "text/plain": [
              "      Avg. Area Income  Avg. Area House Age  Avg. Area Number of Rooms  \\\n",
              "0         79545.458574             5.682861                   7.009188   \n",
              "1         79248.642455             6.002900                   6.730821   \n",
              "2         61287.067179             5.865890                   8.512727   \n",
              "3         63345.240046             7.188236                   5.586729   \n",
              "4         59982.197226             5.040555                   7.839388   \n",
              "...                ...                  ...                        ...   \n",
              "4995      60567.944140             7.830362                   6.137356   \n",
              "4996      78491.275435             6.999135                   6.576763   \n",
              "4997      63390.686886             7.250591                   4.805081   \n",
              "4998      68001.331235             5.534388                   7.130144   \n",
              "4999      65510.581804             5.992305                   6.792336   \n",
              "\n",
              "      Avg. Area Number of Bedrooms  Area Population         Price  \\\n",
              "0                             4.09     23086.800503  1.059034e+06   \n",
              "1                             3.09     40173.072174  1.505891e+06   \n",
              "2                             5.13     36882.159400  1.058988e+06   \n",
              "3                             3.26     34310.242831  1.260617e+06   \n",
              "4                             4.23     26354.109472  6.309435e+05   \n",
              "...                            ...              ...           ...   \n",
              "4995                          3.46     22837.361035  1.060194e+06   \n",
              "4996                          4.02     25616.115489  1.482618e+06   \n",
              "4997                          2.13     33266.145490  1.030730e+06   \n",
              "4998                          5.44     42625.620156  1.198657e+06   \n",
              "4999                          4.07     46501.283803  1.298950e+06   \n",
              "\n",
              "                                                Address  \n",
              "0     208 Michael Ferry Apt. 674\\nLaurabury, NE 3701...  \n",
              "1     188 Johnson Views Suite 079\\nLake Kathleen, CA...  \n",
              "2     9127 Elizabeth Stravenue\\nDanieltown, WI 06482...  \n",
              "3                             USS Barnett\\nFPO AP 44820  \n",
              "4                            USNS Raymond\\nFPO AE 09386  \n",
              "...                                                 ...  \n",
              "4995                   USNS Williams\\nFPO AP 30153-7653  \n",
              "4996              PSC 9258, Box 8489\\nAPO AA 42991-3352  \n",
              "4997  4215 Tracy Garden Suite 076\\nJoshualand, VA 01...  \n",
              "4998                          USS Wallace\\nFPO AE 73316  \n",
              "4999  37778 George Ridges Apt. 509\\nEast Holly, NV 2...  \n",
              "\n",
              "[5000 rows x 7 columns]"
            ],
            "text/html": [
              "\n",
              "  <div id=\"df-87d5fbf5-e9ad-46c2-8b10-760e2d05b64f\" class=\"colab-df-container\">\n",
              "    <div>\n",
              "<style scoped>\n",
              "    .dataframe tbody tr th:only-of-type {\n",
              "        vertical-align: middle;\n",
              "    }\n",
              "\n",
              "    .dataframe tbody tr th {\n",
              "        vertical-align: top;\n",
              "    }\n",
              "\n",
              "    .dataframe thead th {\n",
              "        text-align: right;\n",
              "    }\n",
              "</style>\n",
              "<table border=\"1\" class=\"dataframe\">\n",
              "  <thead>\n",
              "    <tr style=\"text-align: right;\">\n",
              "      <th></th>\n",
              "      <th>Avg. Area Income</th>\n",
              "      <th>Avg. Area House Age</th>\n",
              "      <th>Avg. Area Number of Rooms</th>\n",
              "      <th>Avg. Area Number of Bedrooms</th>\n",
              "      <th>Area Population</th>\n",
              "      <th>Price</th>\n",
              "      <th>Address</th>\n",
              "    </tr>\n",
              "  </thead>\n",
              "  <tbody>\n",
              "    <tr>\n",
              "      <th>0</th>\n",
              "      <td>79545.458574</td>\n",
              "      <td>5.682861</td>\n",
              "      <td>7.009188</td>\n",
              "      <td>4.09</td>\n",
              "      <td>23086.800503</td>\n",
              "      <td>1.059034e+06</td>\n",
              "      <td>208 Michael Ferry Apt. 674\\nLaurabury, NE 3701...</td>\n",
              "    </tr>\n",
              "    <tr>\n",
              "      <th>1</th>\n",
              "      <td>79248.642455</td>\n",
              "      <td>6.002900</td>\n",
              "      <td>6.730821</td>\n",
              "      <td>3.09</td>\n",
              "      <td>40173.072174</td>\n",
              "      <td>1.505891e+06</td>\n",
              "      <td>188 Johnson Views Suite 079\\nLake Kathleen, CA...</td>\n",
              "    </tr>\n",
              "    <tr>\n",
              "      <th>2</th>\n",
              "      <td>61287.067179</td>\n",
              "      <td>5.865890</td>\n",
              "      <td>8.512727</td>\n",
              "      <td>5.13</td>\n",
              "      <td>36882.159400</td>\n",
              "      <td>1.058988e+06</td>\n",
              "      <td>9127 Elizabeth Stravenue\\nDanieltown, WI 06482...</td>\n",
              "    </tr>\n",
              "    <tr>\n",
              "      <th>3</th>\n",
              "      <td>63345.240046</td>\n",
              "      <td>7.188236</td>\n",
              "      <td>5.586729</td>\n",
              "      <td>3.26</td>\n",
              "      <td>34310.242831</td>\n",
              "      <td>1.260617e+06</td>\n",
              "      <td>USS Barnett\\nFPO AP 44820</td>\n",
              "    </tr>\n",
              "    <tr>\n",
              "      <th>4</th>\n",
              "      <td>59982.197226</td>\n",
              "      <td>5.040555</td>\n",
              "      <td>7.839388</td>\n",
              "      <td>4.23</td>\n",
              "      <td>26354.109472</td>\n",
              "      <td>6.309435e+05</td>\n",
              "      <td>USNS Raymond\\nFPO AE 09386</td>\n",
              "    </tr>\n",
              "    <tr>\n",
              "      <th>...</th>\n",
              "      <td>...</td>\n",
              "      <td>...</td>\n",
              "      <td>...</td>\n",
              "      <td>...</td>\n",
              "      <td>...</td>\n",
              "      <td>...</td>\n",
              "      <td>...</td>\n",
              "    </tr>\n",
              "    <tr>\n",
              "      <th>4995</th>\n",
              "      <td>60567.944140</td>\n",
              "      <td>7.830362</td>\n",
              "      <td>6.137356</td>\n",
              "      <td>3.46</td>\n",
              "      <td>22837.361035</td>\n",
              "      <td>1.060194e+06</td>\n",
              "      <td>USNS Williams\\nFPO AP 30153-7653</td>\n",
              "    </tr>\n",
              "    <tr>\n",
              "      <th>4996</th>\n",
              "      <td>78491.275435</td>\n",
              "      <td>6.999135</td>\n",
              "      <td>6.576763</td>\n",
              "      <td>4.02</td>\n",
              "      <td>25616.115489</td>\n",
              "      <td>1.482618e+06</td>\n",
              "      <td>PSC 9258, Box 8489\\nAPO AA 42991-3352</td>\n",
              "    </tr>\n",
              "    <tr>\n",
              "      <th>4997</th>\n",
              "      <td>63390.686886</td>\n",
              "      <td>7.250591</td>\n",
              "      <td>4.805081</td>\n",
              "      <td>2.13</td>\n",
              "      <td>33266.145490</td>\n",
              "      <td>1.030730e+06</td>\n",
              "      <td>4215 Tracy Garden Suite 076\\nJoshualand, VA 01...</td>\n",
              "    </tr>\n",
              "    <tr>\n",
              "      <th>4998</th>\n",
              "      <td>68001.331235</td>\n",
              "      <td>5.534388</td>\n",
              "      <td>7.130144</td>\n",
              "      <td>5.44</td>\n",
              "      <td>42625.620156</td>\n",
              "      <td>1.198657e+06</td>\n",
              "      <td>USS Wallace\\nFPO AE 73316</td>\n",
              "    </tr>\n",
              "    <tr>\n",
              "      <th>4999</th>\n",
              "      <td>65510.581804</td>\n",
              "      <td>5.992305</td>\n",
              "      <td>6.792336</td>\n",
              "      <td>4.07</td>\n",
              "      <td>46501.283803</td>\n",
              "      <td>1.298950e+06</td>\n",
              "      <td>37778 George Ridges Apt. 509\\nEast Holly, NV 2...</td>\n",
              "    </tr>\n",
              "  </tbody>\n",
              "</table>\n",
              "<p>5000 rows × 7 columns</p>\n",
              "</div>\n",
              "    <div class=\"colab-df-buttons\">\n",
              "\n",
              "  <div class=\"colab-df-container\">\n",
              "    <button class=\"colab-df-convert\" onclick=\"convertToInteractive('df-87d5fbf5-e9ad-46c2-8b10-760e2d05b64f')\"\n",
              "            title=\"Convert this dataframe to an interactive table.\"\n",
              "            style=\"display:none;\">\n",
              "\n",
              "  <svg xmlns=\"http://www.w3.org/2000/svg\" height=\"24px\" viewBox=\"0 -960 960 960\">\n",
              "    <path d=\"M120-120v-720h720v720H120Zm60-500h600v-160H180v160Zm220 220h160v-160H400v160Zm0 220h160v-160H400v160ZM180-400h160v-160H180v160Zm440 0h160v-160H620v160ZM180-180h160v-160H180v160Zm440 0h160v-160H620v160Z\"/>\n",
              "  </svg>\n",
              "    </button>\n",
              "\n",
              "  <style>\n",
              "    .colab-df-container {\n",
              "      display:flex;\n",
              "      gap: 12px;\n",
              "    }\n",
              "\n",
              "    .colab-df-convert {\n",
              "      background-color: #E8F0FE;\n",
              "      border: none;\n",
              "      border-radius: 50%;\n",
              "      cursor: pointer;\n",
              "      display: none;\n",
              "      fill: #1967D2;\n",
              "      height: 32px;\n",
              "      padding: 0 0 0 0;\n",
              "      width: 32px;\n",
              "    }\n",
              "\n",
              "    .colab-df-convert:hover {\n",
              "      background-color: #E2EBFA;\n",
              "      box-shadow: 0px 1px 2px rgba(60, 64, 67, 0.3), 0px 1px 3px 1px rgba(60, 64, 67, 0.15);\n",
              "      fill: #174EA6;\n",
              "    }\n",
              "\n",
              "    .colab-df-buttons div {\n",
              "      margin-bottom: 4px;\n",
              "    }\n",
              "\n",
              "    [theme=dark] .colab-df-convert {\n",
              "      background-color: #3B4455;\n",
              "      fill: #D2E3FC;\n",
              "    }\n",
              "\n",
              "    [theme=dark] .colab-df-convert:hover {\n",
              "      background-color: #434B5C;\n",
              "      box-shadow: 0px 1px 3px 1px rgba(0, 0, 0, 0.15);\n",
              "      filter: drop-shadow(0px 1px 2px rgba(0, 0, 0, 0.3));\n",
              "      fill: #FFFFFF;\n",
              "    }\n",
              "  </style>\n",
              "\n",
              "    <script>\n",
              "      const buttonEl =\n",
              "        document.querySelector('#df-87d5fbf5-e9ad-46c2-8b10-760e2d05b64f button.colab-df-convert');\n",
              "      buttonEl.style.display =\n",
              "        google.colab.kernel.accessAllowed ? 'block' : 'none';\n",
              "\n",
              "      async function convertToInteractive(key) {\n",
              "        const element = document.querySelector('#df-87d5fbf5-e9ad-46c2-8b10-760e2d05b64f');\n",
              "        const dataTable =\n",
              "          await google.colab.kernel.invokeFunction('convertToInteractive',\n",
              "                                                    [key], {});\n",
              "        if (!dataTable) return;\n",
              "\n",
              "        const docLinkHtml = 'Like what you see? Visit the ' +\n",
              "          '<a target=\"_blank\" href=https://colab.research.google.com/notebooks/data_table.ipynb>data table notebook</a>'\n",
              "          + ' to learn more about interactive tables.';\n",
              "        element.innerHTML = '';\n",
              "        dataTable['output_type'] = 'display_data';\n",
              "        await google.colab.output.renderOutput(dataTable, element);\n",
              "        const docLink = document.createElement('div');\n",
              "        docLink.innerHTML = docLinkHtml;\n",
              "        element.appendChild(docLink);\n",
              "      }\n",
              "    </script>\n",
              "  </div>\n",
              "\n",
              "\n",
              "<div id=\"df-7f66d561-7741-4d65-9444-93b20aa06206\">\n",
              "  <button class=\"colab-df-quickchart\" onclick=\"quickchart('df-7f66d561-7741-4d65-9444-93b20aa06206')\"\n",
              "            title=\"Suggest charts.\"\n",
              "            style=\"display:none;\">\n",
              "\n",
              "<svg xmlns=\"http://www.w3.org/2000/svg\" height=\"24px\"viewBox=\"0 0 24 24\"\n",
              "     width=\"24px\">\n",
              "    <g>\n",
              "        <path d=\"M19 3H5c-1.1 0-2 .9-2 2v14c0 1.1.9 2 2 2h14c1.1 0 2-.9 2-2V5c0-1.1-.9-2-2-2zM9 17H7v-7h2v7zm4 0h-2V7h2v10zm4 0h-2v-4h2v4z\"/>\n",
              "    </g>\n",
              "</svg>\n",
              "  </button>\n",
              "\n",
              "<style>\n",
              "  .colab-df-quickchart {\n",
              "      --bg-color: #E8F0FE;\n",
              "      --fill-color: #1967D2;\n",
              "      --hover-bg-color: #E2EBFA;\n",
              "      --hover-fill-color: #174EA6;\n",
              "      --disabled-fill-color: #AAA;\n",
              "      --disabled-bg-color: #DDD;\n",
              "  }\n",
              "\n",
              "  [theme=dark] .colab-df-quickchart {\n",
              "      --bg-color: #3B4455;\n",
              "      --fill-color: #D2E3FC;\n",
              "      --hover-bg-color: #434B5C;\n",
              "      --hover-fill-color: #FFFFFF;\n",
              "      --disabled-bg-color: #3B4455;\n",
              "      --disabled-fill-color: #666;\n",
              "  }\n",
              "\n",
              "  .colab-df-quickchart {\n",
              "    background-color: var(--bg-color);\n",
              "    border: none;\n",
              "    border-radius: 50%;\n",
              "    cursor: pointer;\n",
              "    display: none;\n",
              "    fill: var(--fill-color);\n",
              "    height: 32px;\n",
              "    padding: 0;\n",
              "    width: 32px;\n",
              "  }\n",
              "\n",
              "  .colab-df-quickchart:hover {\n",
              "    background-color: var(--hover-bg-color);\n",
              "    box-shadow: 0 1px 2px rgba(60, 64, 67, 0.3), 0 1px 3px 1px rgba(60, 64, 67, 0.15);\n",
              "    fill: var(--button-hover-fill-color);\n",
              "  }\n",
              "\n",
              "  .colab-df-quickchart-complete:disabled,\n",
              "  .colab-df-quickchart-complete:disabled:hover {\n",
              "    background-color: var(--disabled-bg-color);\n",
              "    fill: var(--disabled-fill-color);\n",
              "    box-shadow: none;\n",
              "  }\n",
              "\n",
              "  .colab-df-spinner {\n",
              "    border: 2px solid var(--fill-color);\n",
              "    border-color: transparent;\n",
              "    border-bottom-color: var(--fill-color);\n",
              "    animation:\n",
              "      spin 1s steps(1) infinite;\n",
              "  }\n",
              "\n",
              "  @keyframes spin {\n",
              "    0% {\n",
              "      border-color: transparent;\n",
              "      border-bottom-color: var(--fill-color);\n",
              "      border-left-color: var(--fill-color);\n",
              "    }\n",
              "    20% {\n",
              "      border-color: transparent;\n",
              "      border-left-color: var(--fill-color);\n",
              "      border-top-color: var(--fill-color);\n",
              "    }\n",
              "    30% {\n",
              "      border-color: transparent;\n",
              "      border-left-color: var(--fill-color);\n",
              "      border-top-color: var(--fill-color);\n",
              "      border-right-color: var(--fill-color);\n",
              "    }\n",
              "    40% {\n",
              "      border-color: transparent;\n",
              "      border-right-color: var(--fill-color);\n",
              "      border-top-color: var(--fill-color);\n",
              "    }\n",
              "    60% {\n",
              "      border-color: transparent;\n",
              "      border-right-color: var(--fill-color);\n",
              "    }\n",
              "    80% {\n",
              "      border-color: transparent;\n",
              "      border-right-color: var(--fill-color);\n",
              "      border-bottom-color: var(--fill-color);\n",
              "    }\n",
              "    90% {\n",
              "      border-color: transparent;\n",
              "      border-bottom-color: var(--fill-color);\n",
              "    }\n",
              "  }\n",
              "</style>\n",
              "\n",
              "  <script>\n",
              "    async function quickchart(key) {\n",
              "      const quickchartButtonEl =\n",
              "        document.querySelector('#' + key + ' button');\n",
              "      quickchartButtonEl.disabled = true;  // To prevent multiple clicks.\n",
              "      quickchartButtonEl.classList.add('colab-df-spinner');\n",
              "      try {\n",
              "        const charts = await google.colab.kernel.invokeFunction(\n",
              "            'suggestCharts', [key], {});\n",
              "      } catch (error) {\n",
              "        console.error('Error during call to suggestCharts:', error);\n",
              "      }\n",
              "      quickchartButtonEl.classList.remove('colab-df-spinner');\n",
              "      quickchartButtonEl.classList.add('colab-df-quickchart-complete');\n",
              "    }\n",
              "    (() => {\n",
              "      let quickchartButtonEl =\n",
              "        document.querySelector('#df-7f66d561-7741-4d65-9444-93b20aa06206 button');\n",
              "      quickchartButtonEl.style.display =\n",
              "        google.colab.kernel.accessAllowed ? 'block' : 'none';\n",
              "    })();\n",
              "  </script>\n",
              "</div>\n",
              "    </div>\n",
              "  </div>\n"
            ]
          },
          "metadata": {},
          "execution_count": 42
        }
      ]
    },
    {
      "cell_type": "code",
      "source": [
        "print(\"firstfew rows of the dataset:\")\n",
        "print(data.head())"
      ],
      "metadata": {
        "colab": {
          "base_uri": "https://localhost:8080/"
        },
        "id": "b8E5sBeU3bmC",
        "outputId": "a698637e-41df-4b82-be76-59c0778f945c"
      },
      "execution_count": 11,
      "outputs": [
        {
          "output_type": "stream",
          "name": "stdout",
          "text": [
            "firstfew rows of the dataset:\n",
            "   Avg. Area Income  Avg. Area House Age  Avg. Area Number of Rooms  \\\n",
            "0      79545.458574             5.682861                   7.009188   \n",
            "1      79248.642455             6.002900                   6.730821   \n",
            "2      61287.067179             5.865890                   8.512727   \n",
            "3      63345.240046             7.188236                   5.586729   \n",
            "4      59982.197226             5.040555                   7.839388   \n",
            "\n",
            "   Avg. Area Number of Bedrooms  Area Population         Price  \\\n",
            "0                          4.09     23086.800503  1.059034e+06   \n",
            "1                          3.09     40173.072174  1.505891e+06   \n",
            "2                          5.13     36882.159400  1.058988e+06   \n",
            "3                          3.26     34310.242831  1.260617e+06   \n",
            "4                          4.23     26354.109472  6.309435e+05   \n",
            "\n",
            "                                             Address  \n",
            "0  208 Michael Ferry Apt. 674\\nLaurabury, NE 3701...  \n",
            "1  188 Johnson Views Suite 079\\nLake Kathleen, CA...  \n",
            "2  9127 Elizabeth Stravenue\\nDanieltown, WI 06482...  \n",
            "3                          USS Barnett\\nFPO AP 44820  \n",
            "4                         USNS Raymond\\nFPO AE 09386  \n"
          ]
        }
      ]
    },
    {
      "cell_type": "code",
      "source": [
        "print(\"last few rows of the dataset:\")\n",
        "print(data.tail())"
      ],
      "metadata": {
        "colab": {
          "base_uri": "https://localhost:8080/"
        },
        "id": "rFqA5NHm3kXI",
        "outputId": "7229e6c9-e569-4c34-8937-850ba5542ce7"
      },
      "execution_count": 12,
      "outputs": [
        {
          "output_type": "stream",
          "name": "stdout",
          "text": [
            "last few rows of the dataset:\n",
            "      Avg. Area Income  Avg. Area House Age  Avg. Area Number of Rooms  \\\n",
            "4995      60567.944140             7.830362                   6.137356   \n",
            "4996      78491.275435             6.999135                   6.576763   \n",
            "4997      63390.686886             7.250591                   4.805081   \n",
            "4998      68001.331235             5.534388                   7.130144   \n",
            "4999      65510.581804             5.992305                   6.792336   \n",
            "\n",
            "      Avg. Area Number of Bedrooms  Area Population         Price  \\\n",
            "4995                          3.46     22837.361035  1.060194e+06   \n",
            "4996                          4.02     25616.115489  1.482618e+06   \n",
            "4997                          2.13     33266.145490  1.030730e+06   \n",
            "4998                          5.44     42625.620156  1.198657e+06   \n",
            "4999                          4.07     46501.283803  1.298950e+06   \n",
            "\n",
            "                                                Address  \n",
            "4995                   USNS Williams\\nFPO AP 30153-7653  \n",
            "4996              PSC 9258, Box 8489\\nAPO AA 42991-3352  \n",
            "4997  4215 Tracy Garden Suite 076\\nJoshualand, VA 01...  \n",
            "4998                          USS Wallace\\nFPO AE 73316  \n",
            "4999  37778 George Ridges Apt. 509\\nEast Holly, NV 2...  \n"
          ]
        }
      ]
    },
    {
      "cell_type": "code",
      "source": [
        "print(\"dataset information\")\n",
        "print(data.info())"
      ],
      "metadata": {
        "colab": {
          "base_uri": "https://localhost:8080/"
        },
        "id": "N6fu2F51EF4M",
        "outputId": "de1d107a-144a-4557-fc9e-1ea5e786105f"
      },
      "execution_count": 13,
      "outputs": [
        {
          "output_type": "stream",
          "name": "stdout",
          "text": [
            "dataset information\n",
            "<class 'pandas.core.frame.DataFrame'>\n",
            "RangeIndex: 5000 entries, 0 to 4999\n",
            "Data columns (total 7 columns):\n",
            " #   Column                        Non-Null Count  Dtype  \n",
            "---  ------                        --------------  -----  \n",
            " 0   Avg. Area Income              5000 non-null   float64\n",
            " 1   Avg. Area House Age           5000 non-null   float64\n",
            " 2   Avg. Area Number of Rooms     5000 non-null   float64\n",
            " 3   Avg. Area Number of Bedrooms  5000 non-null   float64\n",
            " 4   Area Population               5000 non-null   float64\n",
            " 5   Price                         5000 non-null   float64\n",
            " 6   Address                       5000 non-null   object \n",
            "dtypes: float64(6), object(1)\n",
            "memory usage: 273.6+ KB\n",
            "None\n"
          ]
        }
      ]
    },
    {
      "cell_type": "code",
      "source": [
        "print(\"\\nsummary statistics:\")\n",
        "print(data.describe())"
      ],
      "metadata": {
        "colab": {
          "base_uri": "https://localhost:8080/"
        },
        "id": "I_uc0dbbETcf",
        "outputId": "cb59a7ad-9182-4680-fa92-651eed43ee36"
      },
      "execution_count": 14,
      "outputs": [
        {
          "output_type": "stream",
          "name": "stdout",
          "text": [
            "\n",
            "summary statistics:\n",
            "       Avg. Area Income  Avg. Area House Age  Avg. Area Number of Rooms  \\\n",
            "count       5000.000000          5000.000000                5000.000000   \n",
            "mean       68583.108984             5.977222                   6.987792   \n",
            "std        10657.991214             0.991456                   1.005833   \n",
            "min        17796.631190             2.644304                   3.236194   \n",
            "25%        61480.562388             5.322283                   6.299250   \n",
            "50%        68804.286404             5.970429                   7.002902   \n",
            "75%        75783.338666             6.650808                   7.665871   \n",
            "max       107701.748378             9.519088                  10.759588   \n",
            "\n",
            "       Avg. Area Number of Bedrooms  Area Population         Price  \n",
            "count                   5000.000000      5000.000000  5.000000e+03  \n",
            "mean                       3.981330     36163.516039  1.232073e+06  \n",
            "std                        1.234137      9925.650114  3.531176e+05  \n",
            "min                        2.000000       172.610686  1.593866e+04  \n",
            "25%                        3.140000     29403.928702  9.975771e+05  \n",
            "50%                        4.050000     36199.406689  1.232669e+06  \n",
            "75%                        4.490000     42861.290769  1.471210e+06  \n",
            "max                        6.500000     69621.713378  2.469066e+06  \n"
          ]
        }
      ]
    },
    {
      "cell_type": "code",
      "source": [
        "print(data.info())"
      ],
      "metadata": {
        "colab": {
          "base_uri": "https://localhost:8080/"
        },
        "id": "ZqqufRwr5-Eh",
        "outputId": "ad14343e-02b8-48eb-e628-eb93e1530414"
      },
      "execution_count": 15,
      "outputs": [
        {
          "output_type": "stream",
          "name": "stdout",
          "text": [
            "<class 'pandas.core.frame.DataFrame'>\n",
            "RangeIndex: 5000 entries, 0 to 4999\n",
            "Data columns (total 7 columns):\n",
            " #   Column                        Non-Null Count  Dtype  \n",
            "---  ------                        --------------  -----  \n",
            " 0   Avg. Area Income              5000 non-null   float64\n",
            " 1   Avg. Area House Age           5000 non-null   float64\n",
            " 2   Avg. Area Number of Rooms     5000 non-null   float64\n",
            " 3   Avg. Area Number of Bedrooms  5000 non-null   float64\n",
            " 4   Area Population               5000 non-null   float64\n",
            " 5   Price                         5000 non-null   float64\n",
            " 6   Address                       5000 non-null   object \n",
            "dtypes: float64(6), object(1)\n",
            "memory usage: 273.6+ KB\n",
            "None\n"
          ]
        }
      ]
    },
    {
      "cell_type": "code",
      "source": [
        "print(\"\\nmissing values:\")\n",
        "print(data.isnull().sum())"
      ],
      "metadata": {
        "colab": {
          "base_uri": "https://localhost:8080/"
        },
        "id": "5flgZi-y5ZDi",
        "outputId": "bf6499e2-5b17-4333-a406-690edc6c3c02"
      },
      "execution_count": 16,
      "outputs": [
        {
          "output_type": "stream",
          "name": "stdout",
          "text": [
            "\n",
            "missing values:\n",
            "Avg. Area Income                0\n",
            "Avg. Area House Age             0\n",
            "Avg. Area Number of Rooms       0\n",
            "Avg. Area Number of Bedrooms    0\n",
            "Area Population                 0\n",
            "Price                           0\n",
            "Address                         0\n",
            "dtype: int64\n"
          ]
        }
      ]
    },
    {
      "cell_type": "code",
      "source": [
        "print(\"\\ncolumns:\")\n",
        "print(data.columns)"
      ],
      "metadata": {
        "colab": {
          "base_uri": "https://localhost:8080/"
        },
        "id": "8slyIDZGEuxT",
        "outputId": "d5663022-9542-4465-e6d1-02fe02243b33"
      },
      "execution_count": 17,
      "outputs": [
        {
          "output_type": "stream",
          "name": "stdout",
          "text": [
            "\n",
            "columns:\n",
            "Index(['Avg. Area Income', 'Avg. Area House Age', 'Avg. Area Number of Rooms',\n",
            "       'Avg. Area Number of Bedrooms', 'Area Population', 'Price', 'Address'],\n",
            "      dtype='object')\n"
          ]
        }
      ]
    },
    {
      "cell_type": "code",
      "source": [
        "print(\"\\nshape:\")\n",
        "print(data.shape)"
      ],
      "metadata": {
        "colab": {
          "base_uri": "https://localhost:8080/"
        },
        "id": "cU8yjTa3E7Pd",
        "outputId": "33c05f03-ec84-436e-ce6e-97d58ff0618a"
      },
      "execution_count": 18,
      "outputs": [
        {
          "output_type": "stream",
          "name": "stdout",
          "text": [
            "\n",
            "shape:\n",
            "(5000, 7)\n"
          ]
        }
      ]
    },
    {
      "cell_type": "code",
      "source": [
        "print(\"\\n DATA TYPES:\")\n",
        "print(data.dtypes)"
      ],
      "metadata": {
        "colab": {
          "base_uri": "https://localhost:8080/"
        },
        "id": "OY3UYBxLFGLs",
        "outputId": "8b18e43c-cf1a-4517-b4af-a5ab03b2c45a"
      },
      "execution_count": 19,
      "outputs": [
        {
          "output_type": "stream",
          "name": "stdout",
          "text": [
            "\n",
            " DATA TYPES:\n",
            "Avg. Area Income                float64\n",
            "Avg. Area House Age             float64\n",
            "Avg. Area Number of Rooms       float64\n",
            "Avg. Area Number of Bedrooms    float64\n",
            "Area Population                 float64\n",
            "Price                           float64\n",
            "Address                          object\n",
            "dtype: object\n"
          ]
        }
      ]
    },
    {
      "cell_type": "code",
      "source": [
        "print(\"\\n access the 11th row(index 10)\")\n",
        "data.iloc[8]"
      ],
      "metadata": {
        "colab": {
          "base_uri": "https://localhost:8080/"
        },
        "id": "dTdnsQ1lFjw4",
        "outputId": "c68291ec-4d6d-419b-b367-eeca6b0af1dd"
      },
      "execution_count": 20,
      "outputs": [
        {
          "output_type": "stream",
          "name": "stdout",
          "text": [
            "\n",
            " access the 11th row(index 10)\n"
          ]
        },
        {
          "output_type": "execute_result",
          "data": {
            "text/plain": [
              "Avg. Area Income                             59927.660813\n",
              "Avg. Area House Age                              5.362126\n",
              "Avg. Area Number of Rooms                        6.393121\n",
              "Avg. Area Number of Bedrooms                          2.3\n",
              "Area Population                              29387.396003\n",
              "Price                                       798869.532833\n",
              "Address                         USS Gilbert\\nFPO AA 20957\n",
              "Name: 8, dtype: object"
            ]
          },
          "metadata": {},
          "execution_count": 20
        }
      ]
    },
    {
      "cell_type": "code",
      "source": [
        "unique_counts=data.nunique()\n",
        "print(\"number f unique values in each column:\")\n",
        "print(unique_counts)"
      ],
      "metadata": {
        "colab": {
          "base_uri": "https://localhost:8080/"
        },
        "id": "cI2ZzrfUF7Hu",
        "outputId": "1e5707dd-011d-41bd-8656-69a2dd0a1ab2"
      },
      "execution_count": 21,
      "outputs": [
        {
          "output_type": "stream",
          "name": "stdout",
          "text": [
            "number f unique values in each column:\n",
            "Avg. Area Income                5000\n",
            "Avg. Area House Age             5000\n",
            "Avg. Area Number of Rooms       5000\n",
            "Avg. Area Number of Bedrooms     255\n",
            "Area Population                 5000\n",
            "Price                           5000\n",
            "Address                         5000\n",
            "dtype: int64\n"
          ]
        }
      ]
    },
    {
      "cell_type": "code",
      "source": [
        "nunique_counts = data.nunique()\n",
        "\n",
        "\n",
        "for column in data.columns:\n",
        "    unique_values = data[column].unique()\n",
        "    value_counts = data[column].value_counts()\n",
        "\n",
        "    print(f\"Column: {column}\")\n",
        "    print(f\"Number of unique values: {nunique_counts[column]}\")\n",
        "    print(f\"Unique values: {unique_values}\")\n",
        "    print(f\"Value counts:\\n{value_counts}\\n\")"
      ],
      "metadata": {
        "colab": {
          "base_uri": "https://localhost:8080/"
        },
        "id": "d9B5lQcuGVB5",
        "outputId": "988c7b4a-e1a5-4350-8d05-8d3595a29f36"
      },
      "execution_count": 22,
      "outputs": [
        {
          "output_type": "stream",
          "name": "stdout",
          "text": [
            "Column: Avg. Area Income\n",
            "Number of unique values: 5000\n",
            "Unique values: [79545.45857432 79248.64245483 61287.06717866 ... 63390.6868855\n",
            " 68001.33123509 65510.58180367]\n",
            "Value counts:\n",
            "79545.458574    1\n",
            "68735.436608    1\n",
            "71635.473101    1\n",
            "73211.136245    1\n",
            "86249.993070    1\n",
            "               ..\n",
            "66064.532823    1\n",
            "59390.346824    1\n",
            "64661.930276    1\n",
            "73279.030904    1\n",
            "65510.581804    1\n",
            "Name: Avg. Area Income, Length: 5000, dtype: int64\n",
            "\n",
            "Column: Avg. Area House Age\n",
            "Number of unique values: 5000\n",
            "Unique values: [5.68286132 6.00289981 5.86588984 ... 7.25059061 5.53438842 5.99230531]\n",
            "Value counts:\n",
            "5.682861    1\n",
            "7.721909    1\n",
            "5.866996    1\n",
            "6.501139    1\n",
            "6.155403    1\n",
            "           ..\n",
            "6.659562    1\n",
            "5.664971    1\n",
            "4.656696    1\n",
            "5.902296    1\n",
            "5.992305    1\n",
            "Name: Avg. Area House Age, Length: 5000, dtype: int64\n",
            "\n",
            "Column: Avg. Area Number of Rooms\n",
            "Number of unique values: 5000\n",
            "Unique values: [7.00918814 6.73082102 8.51272743 ... 4.80508098 7.13014386 6.7923361 ]\n",
            "Value counts:\n",
            "7.009188     1\n",
            "7.621975     1\n",
            "6.075987     1\n",
            "10.280022    1\n",
            "7.967184     1\n",
            "            ..\n",
            "6.881398     1\n",
            "6.750872     1\n",
            "5.660253     1\n",
            "8.077578     1\n",
            "6.792336     1\n",
            "Name: Avg. Area Number of Rooms, Length: 5000, dtype: int64\n",
            "\n",
            "Column: Avg. Area Number of Bedrooms\n",
            "Number of unique values: 255\n",
            "Unique values: [4.09 3.09 5.13 3.26 4.23 4.04 3.41 2.42 2.3  6.1  4.1  4.49 3.1  2.27\n",
            " 4.37 4.01 3.12 4.3  5.12 5.49 4.07 2.1  4.31 6.34 4.33 2.03 4.   3.04\n",
            " 3.24 4.42 5.36 6.29 6.   2.07 3.01 2.39 2.5  2.17 6.3  4.43 4.44 6.32\n",
            " 3.18 6.35 3.22 2.13 4.02 6.36 3.32 4.12 6.41 5.08 3.06 2.28 4.2  4.32\n",
            " 5.43 3.13 3.28 3.27 3.08 3.17 3.15 6.25 3.43 4.38 6.16 4.28 4.11 6.24\n",
            " 3.35 4.48 3.2  3.07 3.39 3.38 6.06 3.3  3.46 3.33 4.41 2.38 2.37 3.45\n",
            " 2.02 2.14 2.23 2.44 2.29 4.19 6.04 5.28 5.1  5.45 4.36 2.05 6.39 4.45\n",
            " 4.22 6.44 4.35 3.37 6.2  6.19 2.49 2.04 4.46 5.15 3.21 6.45 3.44 2.18\n",
            " 3.49 6.26 4.14 4.27 5.04 4.06 6.4  3.25 5.33 3.   2.47 3.31 3.14 4.18\n",
            " 5.07 6.11 2.   5.3  4.26 2.31 3.48 3.29 3.11 3.36 2.15 6.18 5.25 4.47\n",
            " 5.21 4.15 6.37 6.49 6.28 2.09 4.29 6.21 2.08 4.24 2.4  5.37 4.21 2.32\n",
            " 3.23 5.02 5.38 2.34 6.08 3.42 4.25 6.15 3.4  5.46 5.48 2.46 2.26 5.2\n",
            " 4.03 3.16 5.11 6.22 2.21 6.09 6.33 6.03 4.05 5.27 5.4  3.02 4.4  3.34\n",
            " 2.48 5.17 5.   3.47 4.5  6.12 5.41 2.19 3.5  4.17 2.36 6.14 4.16 5.26\n",
            " 4.13 4.39 6.5  5.18 3.19 6.47 6.13 5.19 2.2  5.47 5.01 6.43 3.05 2.41\n",
            " 5.39 5.24 2.45 6.31 5.44 2.11 4.08 2.22 2.16 2.33 5.05 4.34 2.06 5.32\n",
            " 6.02 5.34 3.03 5.03 6.27 2.24 6.46 6.23 5.06 2.35 2.01 2.25 2.12 6.01\n",
            " 6.07 6.42 5.35 5.22 5.29 5.16 5.09 5.23 2.43 5.5  6.05 6.38 6.17 6.48\n",
            " 5.14 5.31 5.42]\n",
            "Value counts:\n",
            "4.38    46\n",
            "3.17    41\n",
            "3.40    40\n",
            "3.16    39\n",
            "3.22    38\n",
            "        ..\n",
            "6.31     7\n",
            "6.01     6\n",
            "6.02     6\n",
            "5.42     6\n",
            "6.42     5\n",
            "Name: Avg. Area Number of Bedrooms, Length: 255, dtype: int64\n",
            "\n",
            "Column: Area Population\n",
            "Number of unique values: 5000\n",
            "Unique values: [23086.80050269 40173.07217364 36882.1593997  ... 33266.14548965\n",
            " 42625.62015585 46501.28380314]\n",
            "Value counts:\n",
            "23086.800503    1\n",
            "27640.561286    1\n",
            "43555.460636    1\n",
            "44198.335811    1\n",
            "43154.838627    1\n",
            "               ..\n",
            "44561.333592    1\n",
            "28995.964140    1\n",
            "49457.179373    1\n",
            "13981.435486    1\n",
            "46501.283803    1\n",
            "Name: Area Population, Length: 5000, dtype: int64\n",
            "\n",
            "Column: Price\n",
            "Number of unique values: 5000\n",
            "Unique values: [1059033.55787012 1505890.91484695 1058987.98787608 ... 1030729.58315229\n",
            " 1198656.87240769 1298950.48026696]\n",
            "Value counts:\n",
            "1.059034e+06    1\n",
            "1.521141e+06    1\n",
            "1.148372e+06    1\n",
            "2.065710e+06    1\n",
            "1.749820e+06    1\n",
            "               ..\n",
            "1.444701e+06    1\n",
            "7.884278e+05    1\n",
            "8.759045e+05    1\n",
            "9.844212e+05    1\n",
            "1.298950e+06    1\n",
            "Name: Price, Length: 5000, dtype: int64\n",
            "\n",
            "Column: Address\n",
            "Number of unique values: 5000\n",
            "Unique values: ['208 Michael Ferry Apt. 674\\nLaurabury, NE 37010-5101'\n",
            " '188 Johnson Views Suite 079\\nLake Kathleen, CA 48958'\n",
            " '9127 Elizabeth Stravenue\\nDanieltown, WI 06482-3489' ...\n",
            " '4215 Tracy Garden Suite 076\\nJoshualand, VA 01707-9165'\n",
            " 'USS Wallace\\nFPO AE 73316'\n",
            " '37778 George Ridges Apt. 509\\nEast Holly, NV 29290-3595']\n",
            "Value counts:\n",
            "208 Michael Ferry Apt. 674\\nLaurabury, NE 37010-5101             1\n",
            "314 Christopher Square Apt. 404\\nLake Ronaldville, SD 42025      1\n",
            "21042 Wilson Islands Suite 238\\nFischerchester, MP 42425-4129    1\n",
            "Unit 8831 Box 5748\\nDPO AE 73012-7314                            1\n",
            "481 Kaitlin Mission Apt. 309\\nJodystad, IA 16947                 1\n",
            "                                                                ..\n",
            "054 Carter Crescent Suite 674\\nGlennport, WA 11140               1\n",
            "8460 Kathleen Mission Apt. 482\\nPort Amytown, KY 72016           1\n",
            "3737 Hartman Rue\\nReneestad, ID 69250-7718                       1\n",
            "3465 Latoya Well\\nNelsonmouth, MI 55741-4287                     1\n",
            "37778 George Ridges Apt. 509\\nEast Holly, NV 29290-3595          1\n",
            "Name: Address, Length: 5000, dtype: int64\n",
            "\n"
          ]
        }
      ]
    },
    {
      "cell_type": "markdown",
      "source": [
        "**SPLITTING THE DATASET INTO FEATURES (X) TARGET VARIABLE (Y)**\n"
      ],
      "metadata": {
        "id": "RMPuPbQZuTM7"
      }
    },
    {
      "cell_type": "code",
      "source": [
        "X = data[['Avg. Area Income', 'Avg. Area House Age', 'Avg. Area Number of Rooms', 'Avg. Area Number of Bedrooms', 'Area Population']]\n",
        "y = data['Price']"
      ],
      "metadata": {
        "id": "21Antqniukwr"
      },
      "execution_count": 23,
      "outputs": []
    },
    {
      "cell_type": "markdown",
      "source": [
        "**PREPROCESSING THE DATASET**"
      ],
      "metadata": {
        "id": "0SLjy8ANMOod"
      }
    },
    {
      "cell_type": "code",
      "source": [
        "from sklearn.preprocessing import MinMaxScaler\n",
        "\n",
        "scaler = MinMaxScaler()\n",
        "X_scaled = scaler.fit_transform(X)"
      ],
      "metadata": {
        "id": "wXt8208Jw4mX"
      },
      "execution_count": 24,
      "outputs": []
    },
    {
      "cell_type": "markdown",
      "source": [
        "**EXCLUDING THE ADDRESS COLUMN**"
      ],
      "metadata": {
        "id": "2QuKRfzZxXda"
      }
    },
    {
      "cell_type": "code",
      "source": [
        "# Excluding the 'Address' column as it is not directly related to the House Prices\n",
        "X = data[['Avg. Area Income', 'Avg. Area House Age', 'Avg. Area Number of Rooms', 'Avg. Area Number of Bedrooms', 'Area Population']]"
      ],
      "metadata": {
        "id": "ErPwvosoxSnb"
      },
      "execution_count": 25,
      "outputs": []
    },
    {
      "cell_type": "markdown",
      "source": [
        "**SPLITTING THE DATASET INTO TRAINING AND TESTING SETS**"
      ],
      "metadata": {
        "id": "3vc0KFA2xpPk"
      }
    },
    {
      "cell_type": "code",
      "source": [
        "from sklearn.model_selection import train_test_split\n",
        "X_train, X_test, y_train, y_test = train_test_split(X, y, test_size=0.2, random_state=42)"
      ],
      "metadata": {
        "id": "udMle4ZaxIPm"
      },
      "execution_count": 26,
      "outputs": []
    },
    {
      "cell_type": "markdown",
      "source": [
        "**SAVING THE TRAIN AND TEST DATASETS**"
      ],
      "metadata": {
        "id": "Nz2Vrq7-1D0m"
      }
    },
    {
      "cell_type": "code",
      "source": [
        "# Saving X_train to CSV file\n",
        "X_train.to_csv(\"X_train.csv\", index=False)\n",
        "\n",
        "# Saving X_test to CSV file\n",
        "X_test.to_csv(\"X_test.csv\", index=False)\n",
        "\n",
        "# Saving y_train to CSV file\n",
        "y_train.to_csv(\"y_train.csv\", index=False)\n",
        "\n",
        "# Saving y_test to CSV file\n",
        "y_test.to_csv(\"y_test.csv\", index=False)"
      ],
      "metadata": {
        "id": "Hd2j9FMtxIpU"
      },
      "execution_count": 27,
      "outputs": []
    },
    {
      "cell_type": "markdown",
      "source": [
        "\n",
        "**PREPROCESSING THE DATASET USING STANDARD SCALER**"
      ],
      "metadata": {
        "id": "LnfApr_s1MW8"
      }
    },
    {
      "cell_type": "code",
      "source": [
        "from sklearn.preprocessing import StandardScaler\n",
        "scaler = StandardScaler()\n",
        "X_train = scaler.fit_transform(X_train)\n",
        "X_test = scaler.transform(X_test)"
      ],
      "metadata": {
        "id": "hT-Ywvao1LN6"
      },
      "execution_count": 28,
      "outputs": []
    },
    {
      "cell_type": "markdown",
      "source": [
        "**CROSS-VALIDATION WITH DIFFERENT PREPROCESSING METHODS AND ALGORITHMS**"
      ],
      "metadata": {
        "id": "ucwxyjYb1qBy"
      }
    },
    {
      "cell_type": "code",
      "source": [
        "preprocessors = [StandardScaler(), MinMaxScaler()]\n",
        "algorithms = [LinearRegression(), Ridge()]\n",
        "for preprocessor in preprocessors:\n",
        "    for algorithm in algorithms:\n",
        "        X_train_preprocessed = preprocessor.fit_transform(X_train)\n",
        "        X_test_preprocessed = preprocessor.transform(X_test)\n",
        "\n",
        "        scores = cross_val_score(algorithm, X_train_preprocessed, y_train, cv=5)\n",
        "        mean_score = scores.mean()\n",
        "        print(f\"Preprocessor: {type(preprocessor).__name__}, Algorithm: {type(algorithm).__name__}, Mean Score: {mean_score}\")\n"
      ],
      "metadata": {
        "colab": {
          "base_uri": "https://localhost:8080/"
        },
        "id": "xWq8dTYv1Lhq",
        "outputId": "df5a7cad-6901-4c3a-cf01-b76802a9ce4f"
      },
      "execution_count": 41,
      "outputs": [
        {
          "output_type": "stream",
          "name": "stdout",
          "text": [
            "Preprocessor: StandardScaler, Algorithm: LinearRegression, Mean Score: 0.9174131909728761\n",
            "Preprocessor: StandardScaler, Algorithm: Ridge, Mean Score: 0.9174132219499216\n",
            "Preprocessor: MinMaxScaler, Algorithm: LinearRegression, Mean Score: 0.9174131909728761\n",
            "Preprocessor: MinMaxScaler, Algorithm: Ridge, Mean Score: 0.9171154717021904\n"
          ]
        }
      ]
    },
    {
      "cell_type": "markdown",
      "source": [
        "\n",
        "**BUILDING THE MODELS**"
      ],
      "metadata": {
        "id": "71_vBRB911ck"
      }
    },
    {
      "cell_type": "code",
      "source": [
        "model = LinearRegression()\n",
        "\n",
        "model.fit(X_train_preprocessed, y_train)\n",
        "\n",
        "y_pred = model.predict(X_test_preprocessed)\n",
        "\n",
        "mse = mean_squared_error(y_test, y_pred)\n",
        "r2 = r2_score(y_test, y_pred)\n",
        "\n",
        "print(\"Mean Squared Error:\", mse)\n",
        "print(\"R-squared (R2) Score:\", r2)\n",
        "\n",
        "\n",
        "\n",
        "\n",
        "print(\"Predicted Values:\")\n",
        "print(y_pred)"
      ],
      "metadata": {
        "colab": {
          "base_uri": "https://localhost:8080/"
        },
        "id": "z-oAbhsS1jSb",
        "outputId": "16a28698-b146-4f90-98ee-164c3a6717af"
      },
      "execution_count": 43,
      "outputs": [
        {
          "output_type": "stream",
          "name": "stdout",
          "text": [
            "Mean Squared Error: 10089009300.89399\n",
            "R-squared (R2) Score: 0.9179971706834331\n",
            "Predicted Values:\n",
            "[1308587.92699753 1237037.22949429 1243429.34030687 1228900.21360379\n",
            " 1063320.9071082  1544058.05034856 1094774.70493022  833284.72339228\n",
            "  788412.85578724 1469714.86615707  671728.43662066 1606818.21977935\n",
            " 1004166.61331062 1796798.97595927 1288566.96221017 1087782.93301077\n",
            " 1423072.37492526 1078178.68169673  802286.03537901  930761.03695714\n",
            " 1134829.86477819  916398.42023136 1489972.69335423 1284580.15538819\n",
            " 1582071.3532273  1132519.15991993 1089888.39644513  974510.51872158\n",
            "  924057.96820669 1740759.72092272 1286481.5951232  1621289.9517161\n",
            " 1435264.20161716 1234014.77924484 1485434.57300368 1718335.00753687\n",
            " 1538953.74882846  777106.64791796 1765201.52243617 1175972.1419982\n",
            " 1553707.94323484  897703.67505177 1371049.80326608  845281.72310359\n",
            " 1201022.89803883 1133285.98450856 1363128.14557352 1449814.08768269\n",
            " 1574363.90467353 1233577.50265971 1484464.01606206 1295276.5894355\n",
            " 1222136.77335287  990124.41659783 1693824.96035767 1823785.05665098\n",
            " 1136495.63903356 1282164.40305634 1327292.0544315  1353355.51909084\n",
            "  966265.44345958  661906.63917318 1533750.56861    1002479.76053659\n",
            "  995799.79959537 1567349.59707243 1500813.63482575 1090078.00056424\n",
            " 1820964.84741687 1479856.16724362  902785.3021607  1494542.21679588\n",
            " 1378859.29762368  962610.88478571  712800.76347479 1565650.37425306\n",
            " 1149218.97654372  931311.21938344 1600923.95574326  506875.42639206\n",
            " 1592924.03164876 1292023.54953345  681260.98813948  432977.16110003\n",
            " 1395334.63471214  696834.50740128  663613.86440609 1030075.8256702\n",
            " 1485134.02140126 1320071.7532911  1271264.11329312 1422274.66428993\n",
            "  671601.8958332  1149995.64271578 1261301.82190815  784691.75366839\n",
            " 1189915.30485933 1014887.17531208 1405378.85714974 1539076.97995915\n",
            "  593301.15079216 1391801.76393835 1262742.70864071 1875132.68141895\n",
            " 2336899.33387145  946302.25269159 1315655.58002703  953107.00437485\n",
            " 1831758.27483189 1625882.69024163 1639245.35999713 1267016.02457592\n",
            " 1804840.84718865 1220829.46104254  850670.8593464  1584187.59595384\n",
            "  761904.58839441 1360032.80169306 1186062.16197453 1559470.32105866\n",
            " 1770323.74482786 1608248.53684161 1573661.86962671 1531208.643762\n",
            " 1812547.75249827 1124965.3786236   669517.22471198  978249.45590807\n",
            " 1316294.24560632 1627775.48942888 1343329.23943771 1088746.2176744\n",
            " 1516813.82322278 1333391.562564   1421961.53699945 1527965.13951308\n",
            " 1674048.5694694  1301125.76637798  843902.14276129 1439397.74699529\n",
            " 1857462.44038398 1090388.23396924 1845464.91767034 1272015.37672477\n",
            " 2036878.56552224  882686.73444801  954142.09498701 1116676.58455375\n",
            " 1395124.12307559 1510721.91006255  952949.66077824  969883.09423411\n",
            " 1320445.66982244 1494548.61488436 1311797.03936304  764593.88740283\n",
            " 1729945.04026354  966390.95323435 1980014.56655157 1253548.56040176\n",
            " 1378043.01470114 1465705.85673362 1041643.25777137 2016178.12307685\n",
            " 1425286.31755893  783766.0559874   826322.77792506 1753896.36530117\n",
            " 1077079.69502187 2073701.72252869 1735967.08463087 1049433.84156024\n",
            " 1829294.89844263 1128895.79613789 1629029.35283931 1634470.42260721\n",
            " 1524785.70964574  722156.79424148  740342.6213118   547622.83148174\n",
            "  828931.14665384 1067364.15017838  969253.52659217 1227292.55245929\n",
            "  871755.12799321  504202.02965933 1200044.47873911 1062310.88487676\n",
            " 1519500.99297217 1329223.54689563 1386542.64820157 1320937.40536535\n",
            " 1204359.90632369 1240619.19034585 1365626.9148404  1769953.37847156\n",
            " 1329720.91129388 1376332.51764138 1298990.36407934  834744.40310691\n",
            " 1272066.20149398 1451499.03548571 1289190.82085873  896873.03598605\n",
            "  990437.07011064 1357842.65851701 1649364.37150986  779324.24924987\n",
            " 1005588.56759391 1467831.8143514  1124908.45994292 1142768.93653071\n",
            " 1250196.34738781 1105424.47695209  622294.93861755 1841657.41212543\n",
            " 1182731.53995535  609160.57633582 1410661.53419285 1263529.22101351\n",
            " 1119673.80759923 1145399.95692909  500449.33290936 1109883.63039247\n",
            " 1626981.19957433  797675.8443249  1407092.10326882 1560733.66870763\n",
            " 1698894.16984507 1714320.59543068 1216152.65562659 1114774.40354014\n",
            " 1001067.89613666 1065269.68436431 1625179.02290143 1593962.78450215\n",
            " 1526221.35988258 1129983.77332892  735887.82286944 1593872.80909068\n",
            " 1732256.51293198 1264953.46131032 1216712.64382582 1539828.39332796\n",
            " 1748273.31153999  544482.71161661 1177808.65915496 1404019.93663773\n",
            " 1125393.51909433  545088.45128042 1290749.88927789 1658361.89913354\n",
            " 1487203.28008238 1291143.03838434 2050455.16760477  768874.19747942\n",
            " 1863631.84714407  929819.17764112 1761083.62018226 1659001.75083663\n",
            " 1247438.96208985  713427.40837863 1778756.53025779  461932.49611752\n",
            " 2167306.95873264  664672.4243193  1801836.6236774  1265099.1880536\n",
            " 1139217.30086017 1173989.48300949 1748192.41949269 1147793.31302187\n",
            " 1029923.90766746  947126.10538084 1182469.49434707  927601.20005205\n",
            " 1566514.61685738 1175827.55938908  388087.54801484 1288959.37006145\n",
            "  986658.19197298 1340019.64945833 1044418.84541083 1286342.56336186\n",
            " 1531000.55785357 1667768.88543332 1084796.51405699  720967.43062555\n",
            "  811997.72885684 1328871.66384415 1519499.8441614  1379415.47205365\n",
            " 1457746.58240932  998979.73972465 2252173.82126783 1491966.70905193\n",
            " 1349013.08643534 1042666.25727805  486559.46844395 1792549.96363362\n",
            " 1193458.84754759 1247203.2650346  1122698.470459   1004013.28018439\n",
            " 1699121.45816285 1504252.14207265 1432835.5898562  1342786.68025929\n",
            " 1601414.77106587  821506.76488328 1126578.53904203 1291476.44544075\n",
            " 1698968.44222487 1232602.93325316 1489643.67510283 1233262.35005563\n",
            " 1135048.11749458 1732127.82573486 1348162.21747035  621085.0664122\n",
            " 1501389.10755783 1201749.81984403 1326727.70232236 1097551.72695623\n",
            " 1221290.66261425  788262.02543894  935562.28249786 1287412.17867104\n",
            " 1473888.6775775   609893.86640511 1183181.37838133 1035484.44410104\n",
            "  809285.45806948  655567.08949344  983743.80081309  986631.41757969\n",
            " 1320596.6797412  1196954.70045302  961010.91970382 1275847.42178946\n",
            " 1425242.66569539 1654320.5462463  1521722.43867606 1396978.62698702\n",
            " 1413827.92718154 1219885.02000701 1232374.59901522 1654016.63386537\n",
            " 1328324.05157968 1321091.57152387 1299216.74514674 1347305.90163771\n",
            " 1688687.80000864 1574519.36949694 1045335.69889285 1356261.70016948\n",
            " 1439514.971525   1504156.15649869 1138145.82597035 1500051.72294337\n",
            " 1486912.30437998  385027.92485999 1216217.42146594 1726329.91434923\n",
            " 1207805.98489514  894601.19092626 1240643.83179285 1308440.22054395\n",
            " 1437359.37891257  893239.68166879 1792787.36750125 2076933.42343302\n",
            "  922567.65701986 1458351.25849102 1249772.50297785 1370805.2390778\n",
            " 1121245.98909368  963231.49570943 1327241.12918493 1187327.23418147\n",
            "  943716.6227825   424854.57298685 1223724.58352513 1411756.82716383\n",
            " 1236002.32151805 1449021.08575985 1411706.42320678  926881.67780977\n",
            " 1006631.71873009 1325140.65527606  470014.10664424 1568408.5462066\n",
            " 1071690.67501272 1261709.43785533  983184.15258551 1086377.76905151\n",
            "  726363.6082078   814172.12713781  803025.54888494 1619615.99437113\n",
            "  459335.13663637 1300390.90011237  961516.33244589 1025131.04020141\n",
            " 1384778.89206895 1235853.66369869  769788.89201956 1026166.69741535\n",
            " 1405638.84930899 1756291.11652805 1280487.11746948  622591.98844804\n",
            " 1449923.84156164 1198418.94698595 1356968.16583368 1079271.72703226\n",
            " 1352329.772969   1057107.45852897 1290462.77150206  705163.48550151\n",
            " 1200364.66997085 1507695.00401127  962337.84598505 1204232.84729745\n",
            " 1571860.58065069 1209464.7385739  1549865.08072289  769645.60725032\n",
            " 1404674.43922868 1240637.52783343 1029500.08001609 1335457.58612478\n",
            " 1088594.03736515 1047144.04180916 1388984.12610584  918924.0160506\n",
            " 1096407.50174601 1406966.35948342  806952.29876919 1196187.41426746\n",
            " 1010141.32136393 1394711.98478674 1257521.42006921 1299693.11290881\n",
            " 1294970.94288743 1723105.21964964 1711247.39032019 1174489.95194177\n",
            "  897740.74110076 1356640.83884512 1219851.0344761  1366674.22214329\n",
            " 1644472.14734956  724989.37808688 1570999.00692569  924989.36290681\n",
            "  673283.26497681 1589694.70648673 1373578.19145103 1236758.80570285\n",
            " 1939038.59441381 1248340.03854162 1393184.15037959 1703469.17720872\n",
            " 1059230.86749252 1268676.36389754 1304697.18785125  892460.12277119\n",
            "  964864.99058504  818820.07759955 1401580.54747599 1180874.94215969\n",
            " 1259247.43803584 1702902.0449321  1649087.11983952 1731289.88335339\n",
            " 1125719.05993073  865172.86237619  968232.22605803  784711.55849789\n",
            "  781822.82332183 1209737.47415571  972635.23672588 1576919.83616685\n",
            " 1060076.42506713  694196.84219458 1610587.6799302  1309658.61630396\n",
            " 1141463.96987403 1205906.98599982 1281336.18444196 1171886.92407696\n",
            " 1567896.45068222 1322659.49232209 1166515.84227938  789697.38830697\n",
            " 1143720.96771717  648247.70636875 1071126.44204648 1428574.57982148\n",
            " 1424322.83234077 1057501.45875363 1430509.55156463 1324079.70373617\n",
            " 1292014.89736639 1071126.32745136 1287175.72484572 1019167.68338679\n",
            " 1037478.15144002 1049936.76364932  731789.1846748   782568.7730998\n",
            " 1002203.86002298 1067321.67597081 1124201.97076036 1457954.83235615\n",
            " 1108354.56185649 1598770.07901397 1176022.85579926 1096986.73368026\n",
            " 1247383.41805667 1363559.48178174  773372.64579646  822330.64613232\n",
            "  993393.81206808 1543915.0952089  1493186.91902698 1175891.67528421\n",
            " 1253692.12639572 1521005.76686472 1627802.51180481 1686082.39992531\n",
            " 1980124.37797512  977460.80106586 1109687.22060448 1113007.40549511\n",
            " 1211544.64900674 1407486.32673221  789313.25630093 1234898.66189969\n",
            " 1209078.69432798 1803383.95080035 2114888.79328749 1118853.92157735\n",
            " 1206707.38468588 1352852.99343915 1396175.67664047 1546374.75741946\n",
            "  666842.59065999 1481420.71952328 1021477.4551856   968486.88335868\n",
            " 1424082.26366316 1914787.24107147  914204.87835355 1489860.90731119\n",
            "  693922.34630683 1031062.51065996 1352126.03254335 1373512.52703591\n",
            " 1049109.83383339 1486525.47762758 1310520.39595899 1647941.99311853\n",
            " 1283575.24055862 1452989.07762655 1429414.83148142 1034083.03488033\n",
            " 1134634.51460331 1403564.88673515 1584896.61276085 1746823.45559164\n",
            " 1466283.2597361  1294745.41392547 1051682.47255803 1101548.76032242\n",
            " 1465167.00089538 1382725.06572444  939224.93035369 1337350.7679938\n",
            " 1120979.59498042 1319831.03770846  558962.93258733 1401611.09978713\n",
            " 1354544.0730603  1306334.89969625 2086259.17091994 1904134.11165524\n",
            "  539895.35619531 1525528.05146321 1235213.44650025  750639.88255388\n",
            " 1127965.9825883  1471490.85051137  619419.48787426 1114997.6119442\n",
            " 1061464.6912306  1013604.11379731 1581434.852274   1079499.50514174\n",
            " 1055056.29175873 1034589.95466514 1224314.04495453  887268.18862764\n",
            " 1516254.20491764 1865327.56742205 1027371.06429442 1490055.38180703\n",
            " 1337289.95134347 1119421.33157706  979092.31019066  679557.25776105\n",
            " 1325905.50178096 1171590.73226992 1567491.1233194  1143856.19166757\n",
            " 1126148.64416495  864154.38857824  490147.41546337 1291071.27278517\n",
            " 1038384.50618612 1662679.55956725 1160624.90934374 2037284.10126632\n",
            " 1516262.89327461 1229075.23311269 1547218.08935949 1434753.6539265\n",
            " 1709132.86008351 1281184.0997553  1524044.07660793  968015.40091316\n",
            " 1293671.18547108 1106474.84699345 1431104.22750486 1712068.30269059\n",
            " 1160254.525011    655742.41586152 1226710.9838983   927585.91056677\n",
            " 1267635.28046136  891680.82011569 1234379.98343485  921258.67102358\n",
            "  973622.38506842 1211118.49159499 1152861.17191024 1769241.04652306\n",
            " 1185559.0243725   982633.08890849 1332532.61460759 1642473.9393699\n",
            "  965382.5714693  1281975.93146422 1406343.90582015  677673.85740129\n",
            " 1209557.69139077  732921.1063637  1682132.45242375  872620.43651355\n",
            " 1136143.09175226  510258.75506183 1288102.88621598 1371033.33463941\n",
            " 1310113.78224339 1436855.31241162 1051232.72974611  684828.48739325\n",
            " 1101019.83617952 1567983.51294877 1018012.68216317 1050698.1127027\n",
            "  825827.00943838 1173621.66011293 1591981.75730171 1595728.99149265\n",
            " 1360891.37529098 1192754.82897986  655836.47938465 1560112.78530449\n",
            "  813169.25379899 1132145.75967406 1564590.92451771 1118669.76459815\n",
            " 1569760.45331559 1383018.33137048 1609536.23008597 1045549.71074358\n",
            " 1174361.92171495 1447869.79959205 1824783.76109704 1639844.91468792\n",
            " 1488884.7852755  1427514.92585404 1231681.33305862 1368014.03189644\n",
            " 1424922.7358478  1551131.49668378  914701.22781689 1249841.22219087\n",
            "  258045.70919516 1230968.7015731  1126752.12639159  858783.44109477\n",
            "  739043.62099853 1044214.90471308 1112387.60767871 1223250.56468717\n",
            " 1447909.2340363  1328619.03653288 1049307.01433395  769590.67267106\n",
            " 1751850.88833475 1463027.89759093 2139919.1095231  1718412.13713038\n",
            " 1115993.45943523 1995828.29499023 1193379.31596039  660188.5602834\n",
            "  660678.46196095 1798655.55037113  470131.44658338 1364102.16506275\n",
            "  889323.7068392   706548.24954176 1399891.22458722 1416306.27235873\n",
            "  967240.32613279 1729652.56536678  869958.83238851 1437817.09450813\n",
            " 1122484.5320399  1673255.03691753 1440039.59230988 1500539.4053899\n",
            "  971584.2741693  1043184.93567319 1317543.16932968 1007627.13026032\n",
            " 1323354.40365531 1135667.17490202 1510351.76679844  993056.44789456\n",
            " 1208831.65832734 1988655.6429112  1230200.72390611 1390403.72276647\n",
            " 1262914.99801444 1582327.50953636 1028414.83031287 1672107.67442163\n",
            " 1265752.82959183 1236601.43306955  329710.11232869  717954.11280889\n",
            " 1103733.13974499 1188712.89825714 1261796.72795395 1193848.8215223\n",
            " 1303384.58750895 1076900.53575834 1169750.68418018 1458470.38909855\n",
            " 1190650.84525944 1360612.20338318 1497401.76740677  916161.01831796\n",
            " 1311284.98583219 1579839.09403361 1155915.54541597 1425748.4937613\n",
            " 1287287.54555766 1153862.22489238 1825980.94614801 1049734.15221287\n",
            "  909542.47470201 1253936.42188576 1467206.44416923 1639991.73405575\n",
            " 1521767.7749176  1019769.20382371  652300.40469407  643377.65271621\n",
            " 1142025.91271099 1263237.98299643 1258087.11819222  589606.05536901\n",
            " 1187007.16456455 1121740.50402059 1808959.71031398 1800055.63690854\n",
            " 1123524.63673947 1425287.86106951 1510529.7121509  1323072.46306195\n",
            " 1443101.22620917 1296655.190339   1551943.68696695 1237292.00298133\n",
            "  665445.49485714 1262709.17153434 1048886.41492113 1867303.54970983\n",
            " 1562894.27356995  731321.70170495 1239100.56464211  909236.28293364\n",
            " 1752100.42286151 1602831.78580386 1504851.06631695 1411568.94781539\n",
            " 1394422.38818576  370722.62126882 1672311.97769413 2120154.65355483\n",
            "  421201.54386708 1486648.19169931 1200115.3067195  1531544.96637818\n",
            " 1031782.76469189  842914.91778104  838950.4067655   596819.74942474\n",
            "  855574.21947017 1040351.51174882 1499196.39432615 1353188.18645242\n",
            " 1167128.79448681  980462.42074907 1615652.70345442 1192255.12726467\n",
            " 1280277.40202401  542769.58059226 1121564.11390502 1430520.80041332\n",
            " 1187720.59708734 1293444.79096469 1344677.83092678 1183418.13056156\n",
            " 1508087.09800653 1265155.245089   1342605.87097174 1277584.98121778\n",
            "  733241.48650832 1553389.38956839 1398171.05353046 1187021.49985553\n",
            " 1371024.29006935 1108983.89166006  975275.64367699 1202021.72545541\n",
            " 1933557.66279012  753137.6044111   972296.00805767 1448918.48607914\n",
            " 1859400.97278677  914399.57695682 1004535.0862029   924307.91932908\n",
            "  964217.30193314 1220872.72352639 1266519.75438386 1619407.66363027\n",
            " 1582521.89907628  764723.64152352 1739052.84077997 1593274.88965391\n",
            " 1677324.99055396  982954.91497658 1370603.38372478  906582.85685683\n",
            " 1631028.42785846  690988.17277011 1573202.0784278  1466498.88062135\n",
            " 1650267.04845574 1182468.07832004 1173494.86869979 1333497.96024391\n",
            " 1256991.4637588  1859915.69316237  758934.1049994  1392542.74052298\n",
            " 1711869.49819376 1561607.58741314  886776.00191125 1312020.95776129\n",
            " 1174661.91515473 1071955.83874387 1381315.05056424 1106592.45010973\n",
            " 1170614.82399651  992963.00044655 1471298.27839527 1531571.13792539\n",
            " 1609332.54145903 1374687.26168946  963514.88833808 1516653.63997675\n",
            " 1161808.93374368  874674.36305551 1168468.7131631   608242.40551374\n",
            " 1499895.89008407 1020508.80251934 1657914.86180147  870372.42975701\n",
            " 1469286.71372895 1585005.10990051 2474725.66527181 1312108.97545531\n",
            "  927776.12992532 1291387.28478145 1591848.64102569  601180.27473428\n",
            " 1595036.52624195 1186556.5830517  1569918.89962045  775297.74281776\n",
            " 1498585.74619852  731227.2577113  1504692.54832433 1046686.00738145\n",
            " 1305402.58575899 1275949.48895668  997331.42657935  617836.4065909\n",
            " 1591112.86332963 1400763.16673454 1311860.51933214 1197044.05948884\n",
            " 1041880.02840122 1530068.19561831  967934.24578169 1427009.14149164\n",
            " 1165147.25822172  869045.4903655  1541101.84334575  952854.45148399\n",
            " 1649273.51933561 1262902.39001213  630780.85419634  576868.98552465\n",
            " 1709538.2551112  1627857.63000985  838666.12045424  878776.97048197\n",
            " 1299345.44781374 1160416.6213843   749980.45207402  983974.19311213\n",
            " 1153309.90526985  943191.01927423 1123570.59504222 1547446.72609464\n",
            " 1298891.03780586  694670.38901374 1042411.7239971   858369.88200395\n",
            " 1238168.96478325 1069914.16183729 1032803.7734362  1215816.40190396\n",
            " 1344361.73315599 1128683.07322047 1451580.23403106 1094467.12735969\n",
            " 1242819.75475179 1312634.56732398 1501591.70729097 1577868.55728479\n",
            " 1263870.34957592  966363.73113409 1304929.99505728  948730.96917383\n",
            " 1116943.51964591 1177297.4901103   988220.39094906 1035263.7103992\n",
            " 1114925.57767812 1691529.13991505  493943.8820625  1819479.31451052\n",
            " 1387271.64234116  632696.71378542 1224357.78570422 1180743.31764247\n",
            " 1036241.70518265  921234.34851303 1754054.11179482 1583328.06187229\n",
            " 1563758.96394323 1342866.59984795 1173594.23690928 1042902.57541112\n",
            " 1318531.801569   1870001.48200097 1663623.85817627 1045096.55057763]\n"
          ]
        }
      ]
    }
  ]
}